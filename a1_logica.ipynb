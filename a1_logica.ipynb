{
  "nbformat": 4,
  "nbformat_minor": 0,
  "metadata": {
    "colab": {
      "provenance": [],
      "authorship_tag": "ABX9TyOpNWGhwTf9/hheWGDSaOxQ",
      "include_colab_link": true
    },
    "kernelspec": {
      "name": "python3",
      "display_name": "Python 3"
    },
    "language_info": {
      "name": "python"
    }
  },
  "cells": [
    {
      "cell_type": "markdown",
      "metadata": {
        "id": "view-in-github",
        "colab_type": "text"
      },
      "source": [
        "<a href=\"https://colab.research.google.com/github/mampaiva/learning-python-colab/blob/main/a1_logica.ipynb\" target=\"_parent\"><img src=\"https://colab.research.google.com/assets/colab-badge.svg\" alt=\"Open In Colab\"/></a>"
      ]
    },
    {
      "cell_type": "code",
      "execution_count": null,
      "metadata": {
        "id": "DmAvUeaJp8vr"
      },
      "outputs": [],
      "source": [
        "nome='mateus'\n",
        "idaide=29"
      ]
    },
    {
      "cell_type": "code",
      "source": [
        "idade=29\n",
        "idaide=idade"
      ],
      "metadata": {
        "id": "2lxfuH9srOcd"
      },
      "execution_count": null,
      "outputs": []
    },
    {
      "cell_type": "code",
      "source": [
        "print(f'meu nome é {nome} e tenho {idade}')"
      ],
      "metadata": {
        "colab": {
          "base_uri": "https://localhost:8080/"
        },
        "id": "j0tODVWgr20c",
        "outputId": "5ce1471a-c1f5-48c8-e1f3-6de28543a84f"
      },
      "execution_count": null,
      "outputs": [
        {
          "output_type": "stream",
          "name": "stdout",
          "text": [
            "meu nome é mateus e tenho 29\n"
          ]
        }
      ]
    },
    {
      "cell_type": "code",
      "source": [
        "def saudacao():\n",
        "  nome = input('qual é o seu nome ? ')\n",
        "  print(f'olá {nome}')"
      ],
      "metadata": {
        "id": "hvUI79ATswzC"
      },
      "execution_count": null,
      "outputs": []
    },
    {
      "cell_type": "code",
      "source": [
        "saudacao()"
      ],
      "metadata": {
        "colab": {
          "base_uri": "https://localhost:8080/"
        },
        "id": "kpio4xNWvU3c",
        "outputId": "82b6f3ff-7165-4e68-cb53-5c4844d0b481"
      },
      "execution_count": null,
      "outputs": [
        {
          "output_type": "stream",
          "name": "stdout",
          "text": [
            "qual é o seu nome ? zaroio\n",
            "olá zaroio\n"
          ]
        }
      ]
    },
    {
      "cell_type": "code",
      "source": [
        "def nome_completo():\n",
        " primeiro_nome = input('Qual seu primeiro nome? ')\n",
        " sobrenome = input('Qual seu sobrenome? ')\n",
        " nome_inteiro = primeiro_nome + ' ' + sobrenome\n",
        " print(nome_inteiro)\n",
        "\n",
        "nome_completo()\n"
      ],
      "metadata": {
        "colab": {
          "base_uri": "https://localhost:8080/"
        },
        "id": "PBQRa5jlxMPY",
        "outputId": "a0990c5b-fd86-463a-846d-d99dfbb5527e"
      },
      "execution_count": null,
      "outputs": [
        {
          "output_type": "stream",
          "name": "stdout",
          "text": [
            "Qual seu primeiro nome? mateus\n",
            "Qual seu sobrenome? paiva\n",
            "mateus paiva\n"
          ]
        }
      ]
    },
    {
      "cell_type": "code",
      "source": [
        "def saudacao_com_parametro(nome_da_pessoa):\n",
        "  print(f'olá {nome_da_pessoa}')"
      ],
      "metadata": {
        "id": "DhjKgTC81bjQ"
      },
      "execution_count": null,
      "outputs": []
    },
    {
      "cell_type": "code",
      "source": [
        "saudacao_com_parametro(nome)"
      ],
      "metadata": {
        "colab": {
          "base_uri": "https://localhost:8080/"
        },
        "id": "t2i6wk-_2gRo",
        "outputId": "bb1652b1-40a5-481a-a2f1-90605389a46a"
      },
      "execution_count": null,
      "outputs": [
        {
          "output_type": "stream",
          "name": "stdout",
          "text": [
            "olá mateus\n"
          ]
        }
      ]
    },
    {
      "cell_type": "code",
      "source": [
        "idade=29\n",
        "def vericar_idade(idade):\n",
        "  if idade >= 18:\n",
        "    print('tem permissão para dirigir')\n",
        "  else:\n",
        "    print('não tem permissão para dirigir')\n",
        "vericar_idade(idade)"
      ],
      "metadata": {
        "colab": {
          "base_uri": "https://localhost:8080/"
        },
        "id": "tMpy49w426uS",
        "outputId": "7d1d118a-3884-46b3-f94b-dcff9f7e56ba"
      },
      "execution_count": null,
      "outputs": [
        {
          "output_type": "stream",
          "name": "stdout",
          "text": [
            "tem permissão para dirigir\n"
          ]
        }
      ]
    },
    {
      "cell_type": "code",
      "source": [
        "def vericar_idade():\n",
        "  idade = input('qual é sua idade? ')\n",
        "  idade = int(idade)\n",
        "  if idade >= 18:\n",
        "    print('tem permissão para dirigir')\n",
        "  else:\n",
        "    print('não tem permissão para dirigir')\n",
        "vericar_idade()"
      ],
      "metadata": {
        "colab": {
          "base_uri": "https://localhost:8080/"
        },
        "id": "merwkosM54ZZ",
        "outputId": "1294b4c7-2a8f-4c99-f3d5-eed8a2f539b5"
      },
      "execution_count": null,
      "outputs": [
        {
          "output_type": "stream",
          "name": "stdout",
          "text": [
            "qual é sua idade? 29\n",
            "tem permissão para dirigir\n"
          ]
        }
      ]
    },
    {
      "cell_type": "code",
      "source": [
        "idades = [10,23,432,45,67,789]\n",
        "idades[0:-1]"
      ],
      "metadata": {
        "colab": {
          "base_uri": "https://localhost:8080/"
        },
        "id": "N68Qlml08hO1",
        "outputId": "fe46040f-3ffd-4372-f696-337186042243"
      },
      "execution_count": null,
      "outputs": [
        {
          "output_type": "execute_result",
          "data": {
            "text/plain": [
              "[10, 23, 432, 45, 67]"
            ]
          },
          "metadata": {},
          "execution_count": 3
        }
      ]
    },
    {
      "cell_type": "code",
      "source": [
        "def verificar_se_pode_dirigir(idade):\n",
        "  if idade >= 18:\n",
        "    print(f'{idade} anos de idade, tem permissão para dirigir')\n",
        "  else:\n",
        "    print(f'{idade} anos de idade, não tem permissão para dirigir')\n",
        "\n",
        "for idade in idades:\n",
        "  verificar_se_pode_dirigir(idade)"
      ],
      "metadata": {
        "colab": {
          "base_uri": "https://localhost:8080/"
        },
        "id": "FKTY3xSGkOtY",
        "outputId": "2f897167-03b2-4205-ce18-869bc233e9b9"
      },
      "execution_count": null,
      "outputs": [
        {
          "output_type": "stream",
          "name": "stdout",
          "text": [
            "10 anos de idade, não tem permissão para dirigir\n",
            "23 anos de idade, tem permissão para dirigir\n",
            "432 anos de idade, tem permissão para dirigir\n",
            "45 anos de idade, tem permissão para dirigir\n",
            "67 anos de idade, tem permissão para dirigir\n",
            "789 anos de idade, tem permissão para dirigir\n"
          ]
        }
      ]
    },
    {
      "cell_type": "code",
      "source": [
        "def verificar_se_pode_dirigir(idades):\n",
        "  for idade in idades:\n",
        "    if idade >= 18:\n",
        "      print(f'{idade} anos de idade, tem permissão para dirigir')\n",
        "    else:\n",
        "      print(f'{idade} anos de idade, não tem permissão para dirigir')\n",
        "verificar_se_pode_dirigir(idades)"
      ],
      "metadata": {
        "colab": {
          "base_uri": "https://localhost:8080/"
        },
        "id": "cSiD-b2eligK",
        "outputId": "450acf31-bf85-40de-9490-83bf17d30462"
      },
      "execution_count": null,
      "outputs": [
        {
          "output_type": "stream",
          "name": "stdout",
          "text": [
            "10 anos de idade, não tem permissão para dirigir\n",
            "23 anos de idade, tem permissão para dirigir\n",
            "432 anos de idade, tem permissão para dirigir\n",
            "45 anos de idade, tem permissão para dirigir\n",
            "67 anos de idade, tem permissão para dirigir\n",
            "789 anos de idade, tem permissão para dirigir\n"
          ]
        }
      ]
    },
    {
      "cell_type": "code",
      "source": [
        "idade=18\n",
        "idade >= 18 "
      ],
      "metadata": {
        "colab": {
          "base_uri": "https://localhost:8080/"
        },
        "id": "sl-lGMdOmCga",
        "outputId": "54162478-6e55-41db-b804-0c3016bf4ea1"
      },
      "execution_count": null,
      "outputs": [
        {
          "output_type": "execute_result",
          "data": {
            "text/plain": [
              "True"
            ]
          },
          "metadata": {},
          "execution_count": 7
        }
      ]
    },
    {
      "cell_type": "code",
      "source": [
        "permissoes = []\n",
        "idades = [10,32,12,46,52,32,14,22,5,31]\n",
        "def verificar_se_pode_dirigir(idades,permissoes):\n",
        "  for idade in idades:\n",
        "    if idade >= 18:\n",
        "      permissoes.append(True)\n",
        "    else:\n",
        "      permissoes.append(False)\n",
        "verificar_se_pode_dirigir(idades,permissoes)"
      ],
      "metadata": {
        "id": "jAtGbxonmQSv"
      },
      "execution_count": null,
      "outputs": []
    },
    {
      "cell_type": "code",
      "source": [
        "permissoes"
      ],
      "metadata": {
        "colab": {
          "base_uri": "https://localhost:8080/"
        },
        "id": "l8cYj6PLnI-K",
        "outputId": "982b7bdf-4114-4f25-8c02-4bf4eb7ccc0a"
      },
      "execution_count": null,
      "outputs": [
        {
          "output_type": "execute_result",
          "data": {
            "text/plain": [
              "[False, True, False, True, True, True, False, True, False, True]"
            ]
          },
          "metadata": {},
          "execution_count": 9
        }
      ]
    },
    {
      "cell_type": "code",
      "source": [
        "for permissao in permissoes:\n",
        "  if permissao == True:\n",
        "    print('tem permissão para dirigir')\n",
        "  else:\n",
        "    print ('não tem permissão para dirigir')"
      ],
      "metadata": {
        "colab": {
          "base_uri": "https://localhost:8080/"
        },
        "id": "HrG-Hza4nTcF",
        "outputId": "5e2351a0-404c-4854-8541-615e99701dd5"
      },
      "execution_count": null,
      "outputs": [
        {
          "output_type": "stream",
          "name": "stdout",
          "text": [
            "não tem permissão para dirigir\n",
            "tem permissão para dirigir\n",
            "não tem permissão para dirigir\n",
            "tem permissão para dirigir\n",
            "tem permissão para dirigir\n",
            "tem permissão para dirigir\n",
            "não tem permissão para dirigir\n",
            "tem permissão para dirigir\n",
            "não tem permissão para dirigir\n",
            "tem permissão para dirigir\n"
          ]
        }
      ]
    },
    {
      "cell_type": "code",
      "source": [
        "frase_alura = [' Digitais', 'e ', 'Negócios ', 'de ', 'Tecnologia ', 'Cursos ']"
      ],
      "metadata": {
        "id": "vZT7SCWio6TZ"
      },
      "execution_count": null,
      "outputs": []
    },
    {
      "cell_type": "code",
      "source": [
        "a=2\n",
        "\n",
        "if a < 2:\n",
        " a = a + 1\n",
        "else:\n",
        " a = a + 2\n",
        "if a < 4:\n",
        " a = a - 4\n",
        "else:\n",
        " a = a + 6\n",
        "\n",
        "a"
      ],
      "metadata": {
        "colab": {
          "base_uri": "https://localhost:8080/"
        },
        "id": "EiOvLyTdpSlH",
        "outputId": "b9f6056e-c112-448b-a889-768b422150b8"
      },
      "execution_count": null,
      "outputs": [
        {
          "output_type": "execute_result",
          "data": {
            "text/plain": [
              "10"
            ]
          },
          "metadata": {},
          "execution_count": 11
        }
      ]
    },
    {
      "cell_type": "code",
      "source": [
        "pi = 3.14\n",
        "type(pi)\n"
      ],
      "metadata": {
        "colab": {
          "base_uri": "https://localhost:8080/"
        },
        "id": "8oabRXJUplD-",
        "outputId": "3357f951-cf13-4fcf-a788-7ac0e6013b13"
      },
      "execution_count": null,
      "outputs": [
        {
          "output_type": "execute_result",
          "data": {
            "text/plain": [
              "float"
            ]
          },
          "metadata": {},
          "execution_count": 13
        }
      ]
    },
    {
      "cell_type": "code",
      "source": [
        "lista = ['Mateus', 29, True, 12]\n",
        "for elemento in lista:\n",
        "  print(f'O elemento {elemento} é do tipo: ', type (elemento))"
      ],
      "metadata": {
        "colab": {
          "base_uri": "https://localhost:8080/"
        },
        "id": "C9vm1R9ZqXpB",
        "outputId": "16dc9f39-27c1-4f91-8703-8f71f1c34b3c"
      },
      "execution_count": 1,
      "outputs": [
        {
          "output_type": "stream",
          "name": "stdout",
          "text": [
            "O elemento Mateus é do tipo:  <class 'str'>\n",
            "O elemento 29 é do tipo:  <class 'int'>\n",
            "O elemento True é do tipo:  <class 'bool'>\n",
            "O elemento 12 é do tipo:  <class 'int'>\n"
          ]
        }
      ]
    },
    {
      "cell_type": "code",
      "source": [
        "from random import randrange\n",
        "randrange(0,11)"
      ],
      "metadata": {
        "colab": {
          "base_uri": "https://localhost:8080/"
        },
        "id": "9LjhyDoM5gYd",
        "outputId": "32ec4a83-e3db-4e98-ff2a-5ae54fdae9d0"
      },
      "execution_count": 2,
      "outputs": [
        {
          "output_type": "execute_result",
          "data": {
            "text/plain": [
              "8"
            ]
          },
          "metadata": {},
          "execution_count": 2
        }
      ]
    },
    {
      "cell_type": "code",
      "source": [
        "notas_matematica=[]\n",
        "for notas in range(8):\n",
        "  notas_matematica.append(randrange(0,11))\n",
        "notas_matematica"
      ],
      "metadata": {
        "colab": {
          "base_uri": "https://localhost:8080/"
        },
        "id": "8j1I8dBg6JI1",
        "outputId": "92b1fc7c-a825-4b03-b3ef-885e1084b42d"
      },
      "execution_count": 3,
      "outputs": [
        {
          "output_type": "execute_result",
          "data": {
            "text/plain": [
              "[9, 5, 7, 10, 10, 9, 4, 7]"
            ]
          },
          "metadata": {},
          "execution_count": 3
        }
      ]
    },
    {
      "cell_type": "code",
      "source": [
        "import matplotlib.pyplot as plt\n",
        "x = list(range(1,9))\n",
        "y = notas_matematica\n",
        "plt.plot(x,y, marker='o')\n",
        "plt.title('notas de matematica')\n",
        "plt.xlabel('provas')\n",
        "plt.ylabel('notas')\n",
        "plt.show()"
      ],
      "metadata": {
        "colab": {
          "base_uri": "https://localhost:8080/",
          "height": 295
        },
        "id": "l6J--sCB9j8m",
        "outputId": "0bd1f169-7a21-4c2f-eff5-40373ced9403"
      },
      "execution_count": 9,
      "outputs": [
        {
          "output_type": "display_data",
          "data": {
            "text/plain": [
              "<Figure size 432x288 with 1 Axes>"
            ],
            "image/png": "[encoded data removed]"
          },
          "metadata": {
            "needs_background": "light"
          }
        }
      ]
    }
  ]
}